{
 "cells": [
  {
   "cell_type": "code",
   "execution_count": 45,
   "metadata": {},
   "outputs": [],
   "source": [
    "import math\n",
    "import numpy as np\n",
    "import pandas as pd\n",
    "import matplotlib.pyplot as plt\n",
    "%matplotlib inline\n",
    "from sklearn import linear_model\n",
    "import seaborn as sns"
   ]
  },
  {
   "cell_type": "code",
   "execution_count": 46,
   "metadata": {},
   "outputs": [
    {
     "data": {
      "text/html": [
       "<div>\n",
       "<style scoped>\n",
       "    .dataframe tbody tr th:only-of-type {\n",
       "        vertical-align: middle;\n",
       "    }\n",
       "\n",
       "    .dataframe tbody tr th {\n",
       "        vertical-align: top;\n",
       "    }\n",
       "\n",
       "    .dataframe thead th {\n",
       "        text-align: right;\n",
       "    }\n",
       "</style>\n",
       "<table border=\"1\" class=\"dataframe\">\n",
       "  <thead>\n",
       "    <tr style=\"text-align: right;\">\n",
       "      <th></th>\n",
       "      <th>Date</th>\n",
       "      <th>total cases</th>\n",
       "      <th>new cases</th>\n",
       "      <th>cases smoothed</th>\n",
       "      <th>total deaths</th>\n",
       "      <th>new deaths</th>\n",
       "      <th>median_aged</th>\n",
       "      <th>age_65_older</th>\n",
       "      <th>Age_70_older</th>\n",
       "      <th>GDP</th>\n",
       "      <th>Unnamed: 10</th>\n",
       "      <th>Unnamed: 11</th>\n",
       "      <th>Unnamed: 12</th>\n",
       "      <th>Unnamed: 13</th>\n",
       "      <th>Unnamed: 14</th>\n",
       "      <th>Unnamed: 15</th>\n",
       "      <th>Unnamed: 16</th>\n",
       "      <th>Unnamed: 17</th>\n",
       "      <th>Unnamed: 18</th>\n",
       "    </tr>\n",
       "  </thead>\n",
       "  <tbody>\n",
       "    <tr>\n",
       "      <th>0</th>\n",
       "      <td>2020-01-06</td>\n",
       "      <td>0</td>\n",
       "      <td>0</td>\n",
       "      <td>0.0</td>\n",
       "      <td>0</td>\n",
       "      <td>0</td>\n",
       "      <td>25</td>\n",
       "      <td>5.809</td>\n",
       "      <td>3.212</td>\n",
       "      <td>2442.804</td>\n",
       "      <td>15</td>\n",
       "      <td>260.797</td>\n",
       "      <td>7.26</td>\n",
       "      <td>9.5</td>\n",
       "      <td>37.8</td>\n",
       "      <td>47.782</td>\n",
       "      <td>0.3</td>\n",
       "      <td>70.78</td>\n",
       "      <td>0.574</td>\n",
       "    </tr>\n",
       "    <tr>\n",
       "      <th>1</th>\n",
       "      <td>2020-01-07</td>\n",
       "      <td>0</td>\n",
       "      <td>0</td>\n",
       "      <td>0.0</td>\n",
       "      <td>0</td>\n",
       "      <td>0</td>\n",
       "      <td>25</td>\n",
       "      <td>5.809</td>\n",
       "      <td>3.212</td>\n",
       "      <td>2442.804</td>\n",
       "      <td>15</td>\n",
       "      <td>260.797</td>\n",
       "      <td>7.26</td>\n",
       "      <td>9.5</td>\n",
       "      <td>37.8</td>\n",
       "      <td>47.782</td>\n",
       "      <td>0.3</td>\n",
       "      <td>70.78</td>\n",
       "      <td>0.574</td>\n",
       "    </tr>\n",
       "    <tr>\n",
       "      <th>2</th>\n",
       "      <td>2020-01-08</td>\n",
       "      <td>0</td>\n",
       "      <td>0</td>\n",
       "      <td>0.0</td>\n",
       "      <td>0</td>\n",
       "      <td>0</td>\n",
       "      <td>25</td>\n",
       "      <td>5.809</td>\n",
       "      <td>3.212</td>\n",
       "      <td>2442.804</td>\n",
       "      <td>15</td>\n",
       "      <td>260.797</td>\n",
       "      <td>7.26</td>\n",
       "      <td>9.5</td>\n",
       "      <td>37.8</td>\n",
       "      <td>47.782</td>\n",
       "      <td>0.3</td>\n",
       "      <td>70.78</td>\n",
       "      <td>0.574</td>\n",
       "    </tr>\n",
       "    <tr>\n",
       "      <th>3</th>\n",
       "      <td>2020-01-09</td>\n",
       "      <td>0</td>\n",
       "      <td>0</td>\n",
       "      <td>0.0</td>\n",
       "      <td>0</td>\n",
       "      <td>0</td>\n",
       "      <td>25</td>\n",
       "      <td>5.809</td>\n",
       "      <td>3.212</td>\n",
       "      <td>2442.804</td>\n",
       "      <td>15</td>\n",
       "      <td>260.797</td>\n",
       "      <td>7.26</td>\n",
       "      <td>9.5</td>\n",
       "      <td>37.8</td>\n",
       "      <td>47.782</td>\n",
       "      <td>0.3</td>\n",
       "      <td>70.78</td>\n",
       "      <td>0.574</td>\n",
       "    </tr>\n",
       "    <tr>\n",
       "      <th>4</th>\n",
       "      <td>2020-01-10</td>\n",
       "      <td>0</td>\n",
       "      <td>0</td>\n",
       "      <td>0.0</td>\n",
       "      <td>0</td>\n",
       "      <td>0</td>\n",
       "      <td>25</td>\n",
       "      <td>5.809</td>\n",
       "      <td>3.212</td>\n",
       "      <td>2442.804</td>\n",
       "      <td>15</td>\n",
       "      <td>260.797</td>\n",
       "      <td>7.26</td>\n",
       "      <td>9.5</td>\n",
       "      <td>37.8</td>\n",
       "      <td>47.782</td>\n",
       "      <td>0.3</td>\n",
       "      <td>70.78</td>\n",
       "      <td>0.574</td>\n",
       "    </tr>\n",
       "  </tbody>\n",
       "</table>\n",
       "</div>"
      ],
      "text/plain": [
       "         Date  total cases  new cases  cases smoothed  total deaths  \\\n",
       "0  2020-01-06            0          0             0.0             0   \n",
       "1  2020-01-07            0          0             0.0             0   \n",
       "2  2020-01-08            0          0             0.0             0   \n",
       "3  2020-01-09            0          0             0.0             0   \n",
       "4  2020-01-10            0          0             0.0             0   \n",
       "\n",
       "   new deaths  median_aged  age_65_older  Age_70_older       GDP  Unnamed: 10  \\\n",
       "0           0           25         5.809         3.212  2442.804           15   \n",
       "1           0           25         5.809         3.212  2442.804           15   \n",
       "2           0           25         5.809         3.212  2442.804           15   \n",
       "3           0           25         5.809         3.212  2442.804           15   \n",
       "4           0           25         5.809         3.212  2442.804           15   \n",
       "\n",
       "   Unnamed: 11  Unnamed: 12  Unnamed: 13  Unnamed: 14  Unnamed: 15  \\\n",
       "0      260.797         7.26          9.5         37.8       47.782   \n",
       "1      260.797         7.26          9.5         37.8       47.782   \n",
       "2      260.797         7.26          9.5         37.8       47.782   \n",
       "3      260.797         7.26          9.5         37.8       47.782   \n",
       "4      260.797         7.26          9.5         37.8       47.782   \n",
       "\n",
       "   Unnamed: 16  Unnamed: 17  Unnamed: 18  \n",
       "0          0.3        70.78        0.574  \n",
       "1          0.3        70.78        0.574  \n",
       "2          0.3        70.78        0.574  \n",
       "3          0.3        70.78        0.574  \n",
       "4          0.3        70.78        0.574  "
      ]
     },
     "execution_count": 46,
     "metadata": {},
     "output_type": "execute_result"
    }
   ],
   "source": [
    "df=pd.read_csv(\"nepal_final.csv\")\n",
    "df.head()"
   ]
  },
  {
   "cell_type": "code",
   "execution_count": 47,
   "metadata": {},
   "outputs": [
    {
     "data": {
      "text/plain": [
       "(268, 19)"
      ]
     },
     "execution_count": 47,
     "metadata": {},
     "output_type": "execute_result"
    }
   ],
   "source": [
    "df.shape"
   ]
  },
  {
   "cell_type": "code",
   "execution_count": 48,
   "metadata": {},
   "outputs": [
    {
     "name": "stderr",
     "output_type": "stream",
     "text": [
      "/home/ec2-user/anaconda3/envs/python3/lib/python3.6/site-packages/seaborn/regression.py:574: UserWarning: The `size` parameter has been renamed to `height`; please update your code.\n",
      "  warnings.warn(msg, UserWarning)\n"
     ]
    },
    {
     "data": {
      "image/png": "[encoded data removed]",
      "text/plain": [
       "<Figure size 504x504 with 1 Axes>"
      ]
     },
     "metadata": {
      "needs_background": "light"
     },
     "output_type": "display_data"
    }
   ],
   "source": [
    "data = pd.DataFrame(data={'x': df['total cases'], 'y': df['total deaths']})\n",
    "\n",
    "# Create lmplot\n",
    "lm = sns.lmplot('x', 'y', data, size=7, truncate=True, scatter_kws={\"s\": 100})\n",
    "\n",
    "# Access the Figure\n",
    "fig = lm.fig \n",
    "\n",
    "# Add a title to the Figure\n",
    "fig.suptitle('Total Cases vs total deaths ', fontsize=12)\n",
    "# Show the plot\n",
    "plt.show()"
   ]
  },
  {
   "cell_type": "code",
   "execution_count": 49,
   "metadata": {},
   "outputs": [
    {
     "data": {
      "text/plain": [
       "<matplotlib.legend.Legend at 0x7f327be66b38>"
      ]
     },
     "execution_count": 49,
     "metadata": {},
     "output_type": "execute_result"
    },
    {
     "data": {
      "image/png": "[encoded data removed]",
      "text/plain": [
       "<Figure size 432x288 with 1 Axes>"
      ]
     },
     "metadata": {
      "needs_background": "light"
     },
     "output_type": "display_data"
    }
   ],
   "source": [
    "dft=pd.read_csv(\"deathsat100000.csv\")\n",
    "ax = sns.barplot(x=dft['age_65_older'], y=dft['deaths_at_100000'],data=dft)\n",
    "legend_labels  = ['India', 'Nepal', 'Brazil', 'Russia', 'USA']\n",
    "\n",
    "# Plot the legend\n",
    "plt.legend(legend_labels)"
   ]
  },
  {
   "cell_type": "code",
   "execution_count": 65,
   "metadata": {},
   "outputs": [
    {
     "data": {
      "text/plain": [
       "<matplotlib.legend.Legend at 0x7f327bce96d8>"
      ]
     },
     "execution_count": 65,
     "metadata": {},
     "output_type": "execute_result"
    },
    {
     "data": {
      "image/png": "[encoded data removed]",
      "text/plain": [
       "<Figure size 432x288 with 1 Axes>"
      ]
     },
     "metadata": {
      "needs_background": "light"
     },
     "output_type": "display_data"
    }
   ],
   "source": [
    "dft=pd.read_csv(\"deathsat100000.csv\")\n",
    "legend_labels  = ['India', 'Nepal', 'Brazil', 'Russia', 'USA']\n",
    "ax = sns.barplot(x=legend_labels, y=dft['GDP'],data=dft)\n",
    "\n",
    "\n",
    "# Plot the legend\n",
    "plt.legend(legend_labels)"
   ]
  },
  {
   "cell_type": "code",
   "execution_count": 51,
   "metadata": {},
   "outputs": [
    {
     "data": {
      "text/plain": [
       "LinearRegression(copy_X=True, fit_intercept=True, n_jobs=None, normalize=False)"
      ]
     },
     "execution_count": 51,
     "metadata": {},
     "output_type": "execute_result"
    }
   ],
   "source": [
    "median_total=math.floor(df['total cases'].median())\n",
    "df['total cases'] = df['total cases'].fillna(median_total)\n",
    "\n",
    "median_old=math.floor(df['age_65_older'].median())\n",
    "df['age_65_older'] = df['age_65_older'].fillna(median_old)\n",
    "\n",
    "median_new = math.floor(df['GDP'].median())\n",
    "df['GDP'] = df['GDP'].fillna(median_new)\n",
    "\n",
    "reg=linear_model.LinearRegression()\n",
    "reg.fit(df[['total cases','age_65_older','GDP']],df['total deaths'])"
   ]
  },
  {
   "cell_type": "code",
   "execution_count": 52,
   "metadata": {},
   "outputs": [
    {
     "data": {
      "text/plain": [
       "array([6.15809057e-03, 4.47845461e-39, 0.00000000e+00])"
      ]
     },
     "execution_count": 52,
     "metadata": {},
     "output_type": "execute_result"
    }
   ],
   "source": [
    "reg.coef_\n"
   ]
  },
  {
   "cell_type": "code",
   "execution_count": 53,
   "metadata": {},
   "outputs": [],
   "source": [
    "a = reg.predict([(81970,28.2,3967)])[0]"
   ]
  },
  {
   "cell_type": "code",
   "execution_count": 54,
   "metadata": {},
   "outputs": [
    {
     "name": "stdout",
     "output_type": "stream",
     "text": [
      "The predicted death count for the given data is \n",
      "489.2963711924428\n"
     ]
    }
   ],
   "source": [
    "print('The predicted death count for the given data is ')\n",
    "print(a)"
   ]
  },
  {
   "cell_type": "code",
   "execution_count": null,
   "metadata": {},
   "outputs": [],
   "source": []
  }
 ],
 "metadata": {
  "kernelspec": {
   "display_name": "conda_python3",
   "language": "python",
   "name": "conda_python3"
  },
  "language_info": {
   "codemirror_mode": {
    "name": "ipython",
    "version": 3
   },
   "file_extension": ".py",
   "mimetype": "text/x-python",
   "name": "python",
   "nbconvert_exporter": "python",
   "pygments_lexer": "ipython3",
   "version": "3.6.10"
  }
 },
 "nbformat": 4,
 "nbformat_minor": 4
}
